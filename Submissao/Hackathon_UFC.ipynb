{
  "nbformat": 4,
  "nbformat_minor": 0,
  "metadata": {
    "colab": {
      "name": "Hackathon_UFC.ipynb",
      "provenance": [],
      "collapsed_sections": [
        "Xwg_FW42T7qp"
      ],
      "authorship_tag": "ABX9TyO6eB74Z1kzlST6/XJ62oQ7",
      "include_colab_link": true
    },
    "kernelspec": {
      "name": "python3",
      "display_name": "Python 3"
    }
  },
  "cells": [
    {
      "cell_type": "markdown",
      "metadata": {
        "id": "view-in-github",
        "colab_type": "text"
      },
      "source": [
        "<a href=\"https://colab.research.google.com/github/italolima04/hackaton-ciencia-de-dados/blob/master/Submissao/Hackathon_UFC.ipynb\" target=\"_parent\"><img src=\"https://colab.research.google.com/assets/colab-badge.svg\" alt=\"Open In Colab\"/></a>"
      ]
    },
    {
      "cell_type": "markdown",
      "metadata": {
        "id": "Xwg_FW42T7qp",
        "colab_type": "text"
      },
      "source": [
        "# Dados"
      ]
    },
    {
      "cell_type": "markdown",
      "metadata": {
        "id": "LmC5W17BDNrp",
        "colab_type": "text"
      },
      "source": [
        "train\n",
        "\n",
        "https://raw.githubusercontent.com/LNascimentoD/HackathonDS/master/Mensagem_Sem_T%C3%ADtulo/train.csv/train.csv"
      ]
    },
    {
      "cell_type": "markdown",
      "metadata": {
        "id": "hVmNR5aLDNvt",
        "colab_type": "text"
      },
      "source": [
        "test\n",
        "\n",
        "https://raw.githubusercontent.com/LNascimentoD/HackathonDS/master/Mensagem_Sem_T%C3%ADtulo/test.csv/test.csv"
      ]
    },
    {
      "cell_type": "markdown",
      "metadata": {
        "id": "xblQUm-wDY3W",
        "colab_type": "text"
      },
      "source": [
        "submission\n",
        "\n",
        "https://raw.githubusercontent.com/LNascimentoD/HackathonDS/master/Mensagem_Sem_T%C3%ADtulo/sample_submission.csv"
      ]
    },
    {
      "cell_type": "markdown",
      "metadata": {
        "id": "3AwyRws1T-da",
        "colab_type": "text"
      },
      "source": [
        "# Importando Bibliotecas e Dados"
      ]
    },
    {
      "cell_type": "code",
      "metadata": {
        "id": "G0cB4samUA-W",
        "colab_type": "code",
        "colab": {}
      },
      "source": [
        "import pandas as pd\n",
        "import numpy as np\n",
        "import matplotlib.pyplot as plt"
      ],
      "execution_count": 2,
      "outputs": []
    },
    {
      "cell_type": "code",
      "metadata": {
        "id": "ZKF0rB3OUEXV",
        "colab_type": "code",
        "colab": {}
      },
      "source": [
        "#Preenchendo Data Frame a partir do link para o arquivo em formato CSV.\n",
        "data = pd.read_csv('https://raw.githubusercontent.com/LNascimentoD/HackathonDS/master/Mensagem_Sem_T%C3%ADtulo/train.csv/train.csv')"
      ],
      "execution_count": 7,
      "outputs": []
    },
    {
      "cell_type": "markdown",
      "metadata": {
        "id": "jxqUF5ZXc1nK",
        "colab_type": "text"
      },
      "source": [
        "**Os dados que constituem esse dataset foram fornecidos pelo Austin Animal Center e representam uma amostra para as informações de animais que chegam a abrigos nos Estados Unidos.**\n"
      ]
    },
    {
      "cell_type": "markdown",
      "metadata": {
        "id": "605yU1ZqZxTA",
        "colab_type": "text"
      },
      "source": [
        "# Explorando os Dados"
      ]
    },
    {
      "cell_type": "code",
      "metadata": {
        "id": "2Dto3Wp2ZwjS",
        "colab_type": "code",
        "colab": {
          "base_uri": "https://localhost:8080/",
          "height": 347
        },
        "outputId": "84c47fb5-8fdf-4f43-bd05-3bb1c01c5c56"
      },
      "source": [
        "#Visualizando às 10 primeiras linhas do Data Frame.\n",
        "data.head(10)"
      ],
      "execution_count": 8,
      "outputs": [
        {
          "output_type": "execute_result",
          "data": {
            "text/html": [
              "<div>\n",
              "<style scoped>\n",
              "    .dataframe tbody tr th:only-of-type {\n",
              "        vertical-align: middle;\n",
              "    }\n",
              "\n",
              "    .dataframe tbody tr th {\n",
              "        vertical-align: top;\n",
              "    }\n",
              "\n",
              "    .dataframe thead th {\n",
              "        text-align: right;\n",
              "    }\n",
              "</style>\n",
              "<table border=\"1\" class=\"dataframe\">\n",
              "  <thead>\n",
              "    <tr style=\"text-align: right;\">\n",
              "      <th></th>\n",
              "      <th>animal_id</th>\n",
              "      <th>name</th>\n",
              "      <th>animal_type</th>\n",
              "      <th>breed</th>\n",
              "      <th>color</th>\n",
              "      <th>arrival_datetime</th>\n",
              "      <th>age_upon_outcome</th>\n",
              "      <th>sex_upon_outcome</th>\n",
              "      <th>outcome_type</th>\n",
              "      <th>outcome_subtype</th>\n",
              "    </tr>\n",
              "  </thead>\n",
              "  <tbody>\n",
              "    <tr>\n",
              "      <th>0</th>\n",
              "      <td>A682590</td>\n",
              "      <td>Rex</td>\n",
              "      <td>Dog</td>\n",
              "      <td>Mastiff/Boxer</td>\n",
              "      <td>Tan/White</td>\n",
              "      <td>2014-07-04T17:07:00</td>\n",
              "      <td>5 months</td>\n",
              "      <td>Neutered Male</td>\n",
              "      <td>Adoption</td>\n",
              "      <td>NaN</td>\n",
              "    </tr>\n",
              "    <tr>\n",
              "      <th>1</th>\n",
              "      <td>A745909</td>\n",
              "      <td>NaN</td>\n",
              "      <td>Dog</td>\n",
              "      <td>Greyhound Mix</td>\n",
              "      <td>Tan/White</td>\n",
              "      <td>2017-03-30T16:27:00</td>\n",
              "      <td>1 year</td>\n",
              "      <td>Spayed Female</td>\n",
              "      <td>Adoption</td>\n",
              "      <td>NaN</td>\n",
              "    </tr>\n",
              "    <tr>\n",
              "      <th>2</th>\n",
              "      <td>A741468</td>\n",
              "      <td>*Martha</td>\n",
              "      <td>Dog</td>\n",
              "      <td>Labrador Retriever Mix</td>\n",
              "      <td>Chocolate</td>\n",
              "      <td>2017-01-08T18:32:00</td>\n",
              "      <td>8 years</td>\n",
              "      <td>Spayed Female</td>\n",
              "      <td>Adoption</td>\n",
              "      <td>NaN</td>\n",
              "    </tr>\n",
              "    <tr>\n",
              "      <th>3</th>\n",
              "      <td>A715697</td>\n",
              "      <td>NaN</td>\n",
              "      <td>Dog</td>\n",
              "      <td>Dachshund Mix</td>\n",
              "      <td>White/Black</td>\n",
              "      <td>2015-11-13T17:13:00</td>\n",
              "      <td>1 month</td>\n",
              "      <td>Neutered Male</td>\n",
              "      <td>Adoption</td>\n",
              "      <td>NaN</td>\n",
              "    </tr>\n",
              "    <tr>\n",
              "      <th>4</th>\n",
              "      <td>A723449</td>\n",
              "      <td>NaN</td>\n",
              "      <td>Cat</td>\n",
              "      <td>Domestic Shorthair Mix</td>\n",
              "      <td>Brown Tabby</td>\n",
              "      <td>2016-04-10T18:23:00</td>\n",
              "      <td>1 year</td>\n",
              "      <td>Intact Female</td>\n",
              "      <td>Euthanasia</td>\n",
              "      <td>Suffering</td>\n",
              "    </tr>\n",
              "    <tr>\n",
              "      <th>5</th>\n",
              "      <td>A432065</td>\n",
              "      <td>Sheba</td>\n",
              "      <td>Dog</td>\n",
              "      <td>German Shepherd Mix</td>\n",
              "      <td>Black/Brown</td>\n",
              "      <td>2014-03-23T18:11:00</td>\n",
              "      <td>8 years</td>\n",
              "      <td>Spayed Female</td>\n",
              "      <td>Transfer</td>\n",
              "      <td>Partner</td>\n",
              "    </tr>\n",
              "    <tr>\n",
              "      <th>6</th>\n",
              "      <td>A693633</td>\n",
              "      <td>Shadow</td>\n",
              "      <td>Dog</td>\n",
              "      <td>Scottish Terrier/Miniature Poodle</td>\n",
              "      <td>Black/White</td>\n",
              "      <td>2014-12-16T17:09:00</td>\n",
              "      <td>1 year</td>\n",
              "      <td>Neutered Male</td>\n",
              "      <td>Return to Owner</td>\n",
              "      <td>NaN</td>\n",
              "    </tr>\n",
              "    <tr>\n",
              "      <th>7</th>\n",
              "      <td>A682582</td>\n",
              "      <td>NaN</td>\n",
              "      <td>Other</td>\n",
              "      <td>Bat Mix</td>\n",
              "      <td>Brown</td>\n",
              "      <td>2014-06-30T09:10:00</td>\n",
              "      <td>6 months</td>\n",
              "      <td>Unknown</td>\n",
              "      <td>Euthanasia</td>\n",
              "      <td>NaN</td>\n",
              "    </tr>\n",
              "    <tr>\n",
              "      <th>8</th>\n",
              "      <td>A667793</td>\n",
              "      <td>NaN</td>\n",
              "      <td>Other</td>\n",
              "      <td>Bat Mix</td>\n",
              "      <td>Brown</td>\n",
              "      <td>2013-11-24T08:50:00</td>\n",
              "      <td>2 years</td>\n",
              "      <td>Unknown</td>\n",
              "      <td>Died</td>\n",
              "      <td>Enroute</td>\n",
              "    </tr>\n",
              "    <tr>\n",
              "      <th>9</th>\n",
              "      <td>A723703</td>\n",
              "      <td>*Selena</td>\n",
              "      <td>Cat</td>\n",
              "      <td>Domestic Shorthair Mix</td>\n",
              "      <td>Brown Tabby/White</td>\n",
              "      <td>2016-04-16T16:03:00</td>\n",
              "      <td>1 year</td>\n",
              "      <td>Spayed Female</td>\n",
              "      <td>Adoption</td>\n",
              "      <td>NaN</td>\n",
              "    </tr>\n",
              "  </tbody>\n",
              "</table>\n",
              "</div>"
            ],
            "text/plain": [
              "  animal_id     name  ...     outcome_type outcome_subtype\n",
              "0   A682590      Rex  ...         Adoption             NaN\n",
              "1   A745909      NaN  ...         Adoption             NaN\n",
              "2   A741468  *Martha  ...         Adoption             NaN\n",
              "3   A715697      NaN  ...         Adoption             NaN\n",
              "4   A723449      NaN  ...       Euthanasia       Suffering\n",
              "5   A432065    Sheba  ...         Transfer         Partner\n",
              "6   A693633   Shadow  ...  Return to Owner             NaN\n",
              "7   A682582      NaN  ...       Euthanasia             NaN\n",
              "8   A667793      NaN  ...             Died         Enroute\n",
              "9   A723703  *Selena  ...         Adoption             NaN\n",
              "\n",
              "[10 rows x 10 columns]"
            ]
          },
          "metadata": {
            "tags": []
          },
          "execution_count": 8
        }
      ]
    },
    {
      "cell_type": "markdown",
      "metadata": {
        "id": "XR0We32EcLKE",
        "colab_type": "text"
      },
      "source": [
        "\n",
        "**Descrição dos dados:**\n",
        "\n",
        "*animal_id* - identificador único de cada animal\n",
        "\n",
        "*name* - nome do animal\n",
        "\n",
        "*animal_type* - tipo de animal\n",
        "\n",
        "*breed* - raça do animal\n",
        "\n",
        "*color* - cor do animal\n",
        "\n",
        "*arrival_datetime* - horário da chegada do animal no abrigo\n",
        "\n",
        "*age_upon_outcome* - idade do animal ao deixar o abrigo\n",
        "\n",
        "*sex_upon_outcome* - sexo do animal ao deixar o abrigo\n",
        "\n",
        "*outcome_type* - destino do animal (a ser previsto)\n",
        "\n",
        "*outcome_subtype* - subtipo de destino do animal"
      ]
    },
    {
      "cell_type": "code",
      "metadata": {
        "id": "o1mxsg0FUnD4",
        "colab_type": "code",
        "colab": {
          "base_uri": "https://localhost:8080/",
          "height": 34
        },
        "outputId": "f9337b11-8d6b-4f0e-9b9b-5318862f9d5d"
      },
      "source": [
        "#Verificando a estrutura do Data Frame.\n",
        "data.shape"
      ],
      "execution_count": 9,
      "outputs": [
        {
          "output_type": "execute_result",
          "data": {
            "text/plain": [
              "(45278, 10)"
            ]
          },
          "metadata": {
            "tags": []
          },
          "execution_count": 9
        }
      ]
    },
    {
      "cell_type": "markdown",
      "metadata": {
        "id": "RXcq3XQmZ2on",
        "colab_type": "text"
      },
      "source": [
        "**Uma etapa importante na exploração dos dados é a de verificar a existência de dados nulos.**"
      ]
    },
    {
      "cell_type": "markdown",
      "metadata": {
        "id": "k6JpTbE9aH9V",
        "colab_type": "text"
      },
      "source": [
        "**O método isna() do Pandas retorna um True em caso de o dado ser nulo, o sum() contabiliza o total desses dados.**\n"
      ]
    },
    {
      "cell_type": "code",
      "metadata": {
        "id": "enZaazZCaNfm",
        "colab_type": "code",
        "colab": {
          "base_uri": "https://localhost:8080/",
          "height": 212
        },
        "outputId": "0e300103-b3fa-46ff-a942-3c7a852e628f"
      },
      "source": [
        "data.isna().sum()"
      ],
      "execution_count": 10,
      "outputs": [
        {
          "output_type": "execute_result",
          "data": {
            "text/plain": [
              "animal_id               0\n",
              "name                15121\n",
              "animal_type             0\n",
              "breed                   0\n",
              "color                   0\n",
              "arrival_datetime        0\n",
              "age_upon_outcome        4\n",
              "sex_upon_outcome        0\n",
              "outcome_type            0\n",
              "outcome_subtype     23267\n",
              "dtype: int64"
            ]
          },
          "metadata": {
            "tags": []
          },
          "execution_count": 10
        }
      ]
    },
    {
      "cell_type": "markdown",
      "metadata": {
        "id": "Iw4EZHS1aX2w",
        "colab_type": "text"
      },
      "source": [
        "**Temos então um resumo para esse parâmetro.**\n",
        "\n",
        "É notório observar que as colunas \"name\" e \"outcome_subtype\" são as que contém a maior parte de dados nulos/ausentes."
      ]
    },
    {
      "cell_type": "code",
      "metadata": {
        "id": "ejnLNGJ3aoiK",
        "colab_type": "code",
        "colab": {
          "base_uri": "https://localhost:8080/",
          "height": 34
        },
        "outputId": "eb5cdfaa-580a-4b3b-9c95-7c9aa2e9851b"
      },
      "source": [
        "#Porcentagem de valores presentes em relação ao total de valores da coluna 'name'.\n",
        "((data['name'].isna().sum()/(data['name'].isna().sum() + data['name'].value_counts().sum()))*100).round(2)"
      ],
      "execution_count": 20,
      "outputs": [
        {
          "output_type": "execute_result",
          "data": {
            "text/plain": [
              "33.4"
            ]
          },
          "metadata": {
            "tags": []
          },
          "execution_count": 20
        }
      ]
    },
    {
      "cell_type": "code",
      "metadata": {
        "id": "QLyqIzQ6bj7Q",
        "colab_type": "code",
        "colab": {
          "base_uri": "https://localhost:8080/",
          "height": 212
        },
        "outputId": "f1aa1077-df50-4bbc-a62c-53d72ab1bb02"
      },
      "source": [
        "#A nivel de exploração, podemos verificar os 10 nomes mais frequentes para os animais.\n",
        "data['name'].value_counts()[:10]"
      ],
      "execution_count": 27,
      "outputs": [
        {
          "output_type": "execute_result",
          "data": {
            "text/plain": [
              "Bella       194\n",
              "Max         152\n",
              "Princess    128\n",
              "Luna        127\n",
              "Daisy       125\n",
              "Rocky       120\n",
              "Charlie     112\n",
              "Coco        110\n",
              "Buddy       104\n",
              "Lucy        103\n",
              "Name: name, dtype: int64"
            ]
          },
          "metadata": {
            "tags": []
          },
          "execution_count": 27
        }
      ]
    },
    {
      "cell_type": "code",
      "metadata": {
        "id": "g6d89YBIc-9k",
        "colab_type": "code",
        "colab": {
          "base_uri": "https://localhost:8080/",
          "height": 34
        },
        "outputId": "3e8bd95a-f9aa-4dd4-84db-f814b3195e85"
      },
      "source": [
        "#Porcentagem de valores presentes em relação ao total de valores da coluna 'outcome_subtype'.\n",
        "((data['outcome_subtype'].isna().sum()/(data['outcome_subtype'].isna().sum() + data['outcome_subtype'].value_counts().sum()))*100).round(2)"
      ],
      "execution_count": 28,
      "outputs": [
        {
          "output_type": "execute_result",
          "data": {
            "text/plain": [
              "51.39"
            ]
          },
          "metadata": {
            "tags": []
          },
          "execution_count": 28
        }
      ]
    },
    {
      "cell_type": "markdown",
      "metadata": {
        "id": "XpgobmHndbbp",
        "colab_type": "text"
      },
      "source": [
        "**Agora vamos explorar as outras colunas, consideradas mais importantes para o dataset.**"
      ]
    },
    {
      "cell_type": "code",
      "metadata": {
        "id": "JiqdfVd8UlFs",
        "colab_type": "code",
        "colab": {
          "base_uri": "https://localhost:8080/",
          "height": 34
        },
        "outputId": "4cd2185f-9668-4cf8-ba8e-236c7efb6b91"
      },
      "source": [
        "#Verificando os tipos únicos de animais presentes nos dados.\n",
        "data['animal_type'].unique()"
      ],
      "execution_count": null,
      "outputs": [
        {
          "output_type": "execute_result",
          "data": {
            "text/plain": [
              "array(['Dog', 'Cat', 'Other', 'Bird', 'Livestock'], dtype=object)"
            ]
          },
          "metadata": {
            "tags": []
          },
          "execution_count": 8
        }
      ]
    },
    {
      "cell_type": "markdown",
      "metadata": {
        "id": "WFJ6nfx8dtkp",
        "colab_type": "text"
      },
      "source": [
        "**Para treinarmos um modelo é necessário trasnformar as informações em dados numéricos.**"
      ]
    },
    {
      "cell_type": "code",
      "metadata": {
        "id": "NGhx2Mx2elhu",
        "colab_type": "code",
        "colab": {
          "base_uri": "https://localhost:8080/",
          "height": 197
        },
        "outputId": "06af3865-8086-4951-93e0-8b9b398f8e8f"
      },
      "source": [
        "data.loc[data.animal_type == 'Dog', 'animal_type'] = 0\n",
        "data.loc[data.animal_type == 'Cat', 'animal_type'] = 1\n",
        "data.loc[data.animal_type == 'Bird', 'animal_type'] = 2\n",
        "data.loc[data.animal_type == 'Livestock', 'animal_type'] = 3\n",
        "data.loc[data.animal_type == 'Other', 'animal_type'] = 4\n",
        "data.head()\n"
      ],
      "execution_count": 46,
      "outputs": [
        {
          "output_type": "execute_result",
          "data": {
            "text/html": [
              "<div>\n",
              "<style scoped>\n",
              "    .dataframe tbody tr th:only-of-type {\n",
              "        vertical-align: middle;\n",
              "    }\n",
              "\n",
              "    .dataframe tbody tr th {\n",
              "        vertical-align: top;\n",
              "    }\n",
              "\n",
              "    .dataframe thead th {\n",
              "        text-align: right;\n",
              "    }\n",
              "</style>\n",
              "<table border=\"1\" class=\"dataframe\">\n",
              "  <thead>\n",
              "    <tr style=\"text-align: right;\">\n",
              "      <th></th>\n",
              "      <th>animal_id</th>\n",
              "      <th>name</th>\n",
              "      <th>animal_type</th>\n",
              "      <th>breed</th>\n",
              "      <th>color</th>\n",
              "      <th>arrival_datetime</th>\n",
              "      <th>age_upon_outcome</th>\n",
              "      <th>sex_upon_outcome</th>\n",
              "      <th>outcome_type</th>\n",
              "      <th>outcome_subtype</th>\n",
              "    </tr>\n",
              "  </thead>\n",
              "  <tbody>\n",
              "    <tr>\n",
              "      <th>0</th>\n",
              "      <td>A682590</td>\n",
              "      <td>Rex</td>\n",
              "      <td>0</td>\n",
              "      <td>Mastiff/Boxer</td>\n",
              "      <td>Tan/White</td>\n",
              "      <td>2014-07-04T17:07:00</td>\n",
              "      <td>5 months</td>\n",
              "      <td>Neutered Male</td>\n",
              "      <td>Adoption</td>\n",
              "      <td>NaN</td>\n",
              "    </tr>\n",
              "    <tr>\n",
              "      <th>1</th>\n",
              "      <td>A745909</td>\n",
              "      <td>NaN</td>\n",
              "      <td>0</td>\n",
              "      <td>Greyhound Mix</td>\n",
              "      <td>Tan/White</td>\n",
              "      <td>2017-03-30T16:27:00</td>\n",
              "      <td>1 year</td>\n",
              "      <td>Spayed Female</td>\n",
              "      <td>Adoption</td>\n",
              "      <td>NaN</td>\n",
              "    </tr>\n",
              "    <tr>\n",
              "      <th>2</th>\n",
              "      <td>A741468</td>\n",
              "      <td>*Martha</td>\n",
              "      <td>0</td>\n",
              "      <td>Labrador Retriever Mix</td>\n",
              "      <td>Chocolate</td>\n",
              "      <td>2017-01-08T18:32:00</td>\n",
              "      <td>8 years</td>\n",
              "      <td>Spayed Female</td>\n",
              "      <td>Adoption</td>\n",
              "      <td>NaN</td>\n",
              "    </tr>\n",
              "    <tr>\n",
              "      <th>3</th>\n",
              "      <td>A715697</td>\n",
              "      <td>NaN</td>\n",
              "      <td>0</td>\n",
              "      <td>Dachshund Mix</td>\n",
              "      <td>White/Black</td>\n",
              "      <td>2015-11-13T17:13:00</td>\n",
              "      <td>1 month</td>\n",
              "      <td>Neutered Male</td>\n",
              "      <td>Adoption</td>\n",
              "      <td>NaN</td>\n",
              "    </tr>\n",
              "    <tr>\n",
              "      <th>4</th>\n",
              "      <td>A723449</td>\n",
              "      <td>NaN</td>\n",
              "      <td>1</td>\n",
              "      <td>Domestic Shorthair Mix</td>\n",
              "      <td>Brown Tabby</td>\n",
              "      <td>2016-04-10T18:23:00</td>\n",
              "      <td>1 year</td>\n",
              "      <td>Intact Female</td>\n",
              "      <td>Euthanasia</td>\n",
              "      <td>Suffering</td>\n",
              "    </tr>\n",
              "  </tbody>\n",
              "</table>\n",
              "</div>"
            ],
            "text/plain": [
              "  animal_id     name animal_type  ... sex_upon_outcome outcome_type outcome_subtype\n",
              "0   A682590      Rex           0  ...    Neutered Male     Adoption             NaN\n",
              "1   A745909      NaN           0  ...    Spayed Female     Adoption             NaN\n",
              "2   A741468  *Martha           0  ...    Spayed Female     Adoption             NaN\n",
              "3   A715697      NaN           0  ...    Neutered Male     Adoption             NaN\n",
              "4   A723449      NaN           1  ...    Intact Female   Euthanasia       Suffering\n",
              "\n",
              "[5 rows x 10 columns]"
            ]
          },
          "metadata": {
            "tags": []
          },
          "execution_count": 46
        }
      ]
    },
    {
      "cell_type": "code",
      "metadata": {
        "id": "fQAY11TvU2kz",
        "colab_type": "code",
        "colab": {
          "base_uri": "https://localhost:8080/",
          "height": 52
        },
        "outputId": "5a613bf0-5813-4f85-9e6c-122fdaf1eeed"
      },
      "source": [
        "#Verificando as raças únicas dos animais presentes nos dados.\n",
        "data['breed'].unique()"
      ],
      "execution_count": 47,
      "outputs": [
        {
          "output_type": "execute_result",
          "data": {
            "text/plain": [
              "array(['Mastiff/Boxer', 'Greyhound Mix', 'Labrador Retriever Mix', ...,\n",
              "       'Dachshund/Boxer', 'Ringtail Mix', 'Dove'], dtype=object)"
            ]
          },
          "metadata": {
            "tags": []
          },
          "execution_count": 47
        }
      ]
    },
    {
      "cell_type": "code",
      "metadata": {
        "id": "jZG_Djn9U7nj",
        "colab_type": "code",
        "colab": {
          "base_uri": "https://localhost:8080/",
          "height": 1000
        },
        "outputId": "eeebd99f-9508-4d7a-cf57-d31bf7e9d400"
      },
      "source": [
        "#Verificando as cores únicas dos animais presentes nos dados.\n",
        "data['color'].unique()"
      ],
      "execution_count": 48,
      "outputs": [
        {
          "output_type": "execute_result",
          "data": {
            "text/plain": [
              "array(['Tan/White', 'Chocolate', 'White/Black', 'Brown Tabby',\n",
              "       'Black/Brown', 'Black/White', 'Brown', 'Brown Tabby/White',\n",
              "       'Black/Tan', 'White', 'Brown/White', 'White/Tan', 'Black',\n",
              "       'Yellow Brindle/White', 'Tricolor', 'Tortie', 'Orange Tabby',\n",
              "       'Blue', 'Tan', 'Buff', 'Apricot', 'Brown Brindle/White',\n",
              "       'Blue/White', 'Cream', 'White/Brown', 'Silver Tabby', 'Silver',\n",
              "       'Black/Silver', 'Red/White', 'Liver/White', 'Orange Tabby/White',\n",
              "       'White/Blue', 'Red', 'Seal Point', 'Black/Tricolor', 'Brown Merle',\n",
              "       'Blue Tabby/White', 'Tortie/White', 'Lilac Point', 'Tan/Cream',\n",
              "       'Blue Tick/Red Tick', 'Blue Merle/White', 'Chocolate/White',\n",
              "       'White/Brown Brindle', 'Blue Merle/Tan', 'Gray/White', 'Fawn',\n",
              "       'Brown/Black', 'Blue Tabby', 'Cream/White', 'Brown/Tan', 'Gray',\n",
              "       'Calico', 'White/Tricolor', 'Gray Tabby', 'Tan/Black', 'Black/Red',\n",
              "       'Brown Tabby/Black', 'Brown Brindle', 'Orange/White',\n",
              "       'Calico Point', 'Fawn/White', 'Red/Black', 'Black/Black',\n",
              "       'White/Brown Tabby', 'Green', 'Silver Tabby/White',\n",
              "       'White/Yellow Brindle', 'Lynx Point/White', 'Lynx Point',\n",
              "       'Tricolor/Black', 'White/Orange Tabby', 'White/Chocolate',\n",
              "       'Cream Tabby', 'Blue Merle/Black', 'Orange/Gray', 'Gray/Blue',\n",
              "       'White/Orange', 'Sable/Black', 'Sable/White', 'Blue Merle',\n",
              "       'Chocolate/Tan', 'Red Tick', 'Black/Brown Brindle', 'Yellow/Brown',\n",
              "       'White/Buff', 'Black/Gray', 'Buff/White', 'Cream Tabby/White',\n",
              "       'Sable', 'Black Brindle/White', 'Torbie', 'White/Gray',\n",
              "       'Gold/White', 'Blue Cream/Buff', 'Yellow/Black', 'Calico/White',\n",
              "       'Gray/Black', 'Black Tabby/White', 'White/Blue Tabby', 'Red/Brown',\n",
              "       'White/Blue Merle', 'Black Brindle', 'Black Tabby', 'Red/Tan',\n",
              "       'Black Smoke', 'Tan/Red', 'Black/Tortie', 'Blue Merle/Brown',\n",
              "       'Torbie/White', 'Silver/Cream', 'Orange/Brown', 'Yellow',\n",
              "       'Brown Merle/White', 'Tan/Brown', 'Fawn/Black', 'Brown/Silver',\n",
              "       'Blue Cream', 'Flame Point', 'Tan/Tan', 'Brown/Brown Brindle',\n",
              "       'Gray Tabby/White', 'Blue/Orange', 'White/Red', 'Green/Yellow',\n",
              "       'White/Liver', 'White/Cream Tabby', 'Blue/Tan', 'Blue Point',\n",
              "       'Pink', 'Tan/Blue', 'Yellow/White', 'Tan/Silver', 'Tan/Gray',\n",
              "       'Red/Red Tick', 'Seal Point/White', 'Sable/Buff', 'Silver/Brown',\n",
              "       'Gold', 'Orange Tabby/Orange Tabby', 'Tan/Buff', 'Blue Tick/Black',\n",
              "       'Yellow Brindle', 'Brown Brindle/Black', 'Silver/Gray',\n",
              "       'Brown/Brown', 'Gray/Brown', 'Black/Buff', 'Chocolate/Black',\n",
              "       'Red Merle/White', 'Orange/Tan', 'Cream/Gray', 'Tortie Point',\n",
              "       'Black/Cream', 'White/Yellow', 'Buff/Black', 'Orange',\n",
              "       'Chocolate Point', 'Black Tiger/White', 'Brown/Cream',\n",
              "       'White/Black Brindle', 'Blue/Tricolor', 'Sable/Tan', 'White/Cream',\n",
              "       'Tricolor/White', 'White/Silver', 'Sable/Cream', 'Blue Tick/Tan',\n",
              "       'Calico/Black', 'Tortie/Blue Cream', 'Blue Tiger/White',\n",
              "       'Gray/Cream', 'Brown/Red', 'Blue Point/White', 'White/Blue Cream',\n",
              "       'Black Brindle/Brown', 'Orange Tabby/Cream', 'Silver Lynx Point',\n",
              "       'Black/Blue Merle', 'Cream/Tan', 'Blue Tick/White',\n",
              "       'Tricolor/Blue Merle', 'White/White', 'White/Pink', 'Blue Tick',\n",
              "       'Brown Brindle/Tan', 'Brown/Chocolate',\n",
              "       'Brown Brindle/Brown Brindle', 'Cream/Black', 'Chocolate/Tricolor',\n",
              "       'Gray/Pink', 'Black Smoke/White', 'Red Tick/White', 'Gray/Tan',\n",
              "       'Black/Blue', 'Tortie/Blue', 'White/Calico', 'White/Brown Merle',\n",
              "       'White/Red Tick', 'Brown/Tricolor', 'Red/Green', 'Green/Blue',\n",
              "       'Blue/Black', 'Blue/Brown', 'Gold/Brown', 'Calico/Tricolor',\n",
              "       'Lilac Point/White', 'Gray Tabby/Black', 'Chocolate/Brown',\n",
              "       'Buff/Yellow', 'Blue/Cream', 'Cream/Brown', 'White/Liver Tick',\n",
              "       'Buff/Tan', 'Black/Yellow Brindle', 'Brown/Black Tabby',\n",
              "       'Silver/White', 'White/Gray Tabby', 'Red/Cream', 'Blue Tick/Red',\n",
              "       'Brown Tiger', 'Tricolor/Brown', 'Liver/Tan',\n",
              "       'Yellow/Orange Tabby', 'Torbie/Blue Tabby', 'Tortie/Black',\n",
              "       'Black/Yellow', 'Red Merle', 'Calico/Blue Tabby', 'Black/Orange',\n",
              "       'Blue Tabby/Tan', 'Red/Gold', 'Tan/Yellow', 'Black/Black Tabby',\n",
              "       'Gray/Red', 'Silver/Red', 'Cream/Cream', 'Red/Red',\n",
              "       'White/Apricot', 'Black/Pink', 'Chocolate Point/White',\n",
              "       'Chocolate/Chocolate', 'Silver/Chocolate', 'Black/Black Smoke',\n",
              "       'Brown/Red Merle', 'Silver/Tan', 'Blue/Gray',\n",
              "       'Chocolate/Liver Tick', 'Brown/Gray', 'Calico/Gray Tabby',\n",
              "       'Brown Brindle/Gray', 'Orange Tabby/Orange', 'Red/Tricolor',\n",
              "       'Calico Point/Gray', 'Gold/Cream', 'Calico Point/White',\n",
              "       'Fawn/Tan', 'Lynx Point/Tortie Point', 'Fawn/Brown', 'Sable/Brown',\n",
              "       'Blue Smoke/Gray', 'Black/Blue Tick', 'Blue/Tortie',\n",
              "       'Black Brindle/Blue', 'Brown Brindle/Red Tick',\n",
              "       'Calico/Brown Tabby', 'Cream/Blue Point', 'White/Brown Tiger',\n",
              "       'Apricot/White', 'White/Red Merle', 'Tricolor/Gray', 'Liver/Buff',\n",
              "       'Gray/Tortie', 'Brown/Red Tick', 'Blue Point/Cream', 'Blue/Green',\n",
              "       'Black Brindle/Brown Brindle', 'Black Brindle/Black',\n",
              "       'Flame Point/White', 'Brown/Buff', 'Brown Tabby/Brown',\n",
              "       'Gray Tabby/Orange', 'Yellow/Cream', 'Agouti/Brown Tabby',\n",
              "       'Silver/Black', 'Blue Smoke', 'Liver Tick',\n",
              "       'Blue Tick/Brown Brindle', 'Cream/Orange', 'Brown/Blue Merle',\n",
              "       'White/Silver Tabby', 'Red/Buff', 'Gray/Gray', 'Blue Tabby/Cream',\n",
              "       'Cream/Red', 'Tricolor/Tan', 'Tricolor/Brown Brindle',\n",
              "       'Red/Silver', 'Gray/Orange', 'Tan/Red Tick', 'Tortie/Orange',\n",
              "       'White/Calico Point', 'Gray/Buff', 'Apricot/Tricolor',\n",
              "       'Gray/Yellow', 'Brown Tabby/Orange', 'Brown/Yellow',\n",
              "       'Black/Gray Tabby', 'Red Tick/Tan', 'Blue Tiger',\n",
              "       'Black/Seal Point', 'Cream/Seal Point', 'Tan/Tricolor',\n",
              "       'Brown Brindle/Brown', 'Blue Cream/White', 'Ruddy/Cream',\n",
              "       'Tricolor/Calico', 'White/Gray Tiger', 'Black/Chocolate',\n",
              "       'Blue Merle/Red Merle', 'Seal Point/Cream', 'Yellow/Gray',\n",
              "       'Red Tick/Brown', 'Gold/Tan', 'Blue/Calico', 'Gold/Black',\n",
              "       'Chocolate/Brown Tabby', 'Brown/Green', 'Tricolor/Brown Merle',\n",
              "       'Chocolate/Red', 'Lilac Point/Cream', 'Yellow Brindle/Blue',\n",
              "       'Agouti', 'Red/Gray', 'Brown Tiger/White', 'Blue/Yellow',\n",
              "       'Seal Point/Brown', 'Gold/Yellow', 'Red Merle/Black',\n",
              "       'Blue Smoke/White', 'Brown Merle/Tan', 'Gray/Silver',\n",
              "       'Blue Merle/Red', 'Tan/Apricot', 'Blue/Yellow Brindle',\n",
              "       'Orange Tabby/Brown', 'Red Merle/Tan', 'Black/Brown Merle',\n",
              "       'Blue Tick/Brown', 'Buff/Brown', 'Orange/Black', 'Blue/Blue',\n",
              "       'Green/White', 'Buff/Gray', 'White/Chocolate Point',\n",
              "       'White/Black Tabby', 'Black/Black Brindle', 'White/Gold',\n",
              "       'Green/Gray', 'Silver Tabby/Black', 'Fawn/Chocolate',\n",
              "       'Gray/Tricolor', 'Cream/Yellow', 'Tortie Point/White', 'Buff/Red',\n",
              "       'Blue Tabby/Buff', 'White/Blue Tick', 'Silver/Blue',\n",
              "       'Apricot/Brown', 'Tortie/Blue Tabby', 'Tan/Yellow Brindle',\n",
              "       'White/Lynx Point', 'Blue Merle/Tricolor', 'Fawn/Blue',\n",
              "       'Brown Tabby/Brown Tabby', 'Tan/Brown Brindle', 'Tricolor/Blue',\n",
              "       'Yellow/Tan', 'Tortie/Calico', 'Red/Yellow', 'Brown Tabby/Cream',\n",
              "       'Sable/Red', 'Lynx Point/Blue', 'Flame Point/Cream',\n",
              "       'Torbie/Brown Tabby', 'Blue Tabby/Blue Cream', 'Cream/Brown Merle',\n",
              "       'Brown Tabby/Agouti', 'Gold/Gold', 'Black Tabby/Black',\n",
              "       'Tortie/Tortie', 'Blue Cream/Tortie', 'Brown Merle/Blue Merle',\n",
              "       'Chocolate/Brown Merle', 'Brown/Orange', 'Blue/Brown Brindle',\n",
              "       'Seal Point/Buff', 'Gray/Gold', 'Chocolate/Gray', 'Yellow/Orange',\n",
              "       'Tortie/Black Smoke', 'Lynx Point/Gray Tabby', 'Brown Merle/Black',\n",
              "       'Black Smoke/Black', 'Green/Black', 'Chocolate/Red Tick',\n",
              "       'Brown Tabby/Blue', 'Fawn/Gray', 'White/Black Smoke',\n",
              "       'White/Seal Point', 'Chocolate/Black Smoke',\n",
              "       'Brown Tabby/Black Brindle', 'Torbie/Brown', 'Tricolor/Red Tick',\n",
              "       'Orange/Orange Tabby', 'Brown Tabby/Tortie', 'Tricolor/Orange',\n",
              "       'Brown/Brown Tabby', 'Red Tick/Red', 'White/Lilac Point',\n",
              "       'Red Merle/Brown Merle', 'White/Flame Point',\n",
              "       'Brown Merle/Brown Tabby', 'Blue Smoke/Brown', 'Orange/Blue',\n",
              "       'Fawn/Brown Brindle', 'Torbie/Gray', 'Fawn/Tricolor',\n",
              "       'Seal Point/Gray', 'Orange Tabby/Black', 'Brown Brindle/Blue',\n",
              "       'Buff/Cream', 'Red Tick/Brown Brindle', 'Cream Tabby/Cream Tabby',\n",
              "       'Red Tick/Brown Merle', 'Blue Cream/Blue Tabby',\n",
              "       'Calico/Blue Cream', 'Orange Tabby/Apricot', 'Torbie/Black',\n",
              "       'Red/Red Merle', 'White/Tortie', 'Blue Merle/Brown Brindle',\n",
              "       'White/Fawn', 'Calico/Brown', 'Blue Tabby/Orange', 'Yellow/Yellow',\n",
              "       'Brown Brindle/Blue Tick', 'Orange Tiger', 'Brown/Blue',\n",
              "       'Brown Brindle/Brown Merle', 'Agouti/Gray', 'Tricolor/Silver'],\n",
              "      dtype=object)"
            ]
          },
          "metadata": {
            "tags": []
          },
          "execution_count": 48
        }
      ]
    },
    {
      "cell_type": "code",
      "metadata": {
        "id": "c7pwEzISWPiX",
        "colab_type": "code",
        "colab": {
          "base_uri": "https://localhost:8080/",
          "height": 52
        },
        "outputId": "a04df837-dc49-4d92-e986-56ab0a60c082"
      },
      "source": [
        "#Verificando os tipos únicos de sexo dos animais presentes nos dados.\n",
        "data['sex_upon_outcome'].unique()"
      ],
      "execution_count": 49,
      "outputs": [
        {
          "output_type": "execute_result",
          "data": {
            "text/plain": [
              "array(['Neutered Male', 'Spayed Female', 'Intact Female', 'Unknown',\n",
              "       'Intact Male'], dtype=object)"
            ]
          },
          "metadata": {
            "tags": []
          },
          "execution_count": 49
        }
      ]
    },
    {
      "cell_type": "markdown",
      "metadata": {
        "id": "_yirk2PtgA2G",
        "colab_type": "text"
      },
      "source": [
        "**Essa é uma coluna de interesse, então também iremos transformar as informações em dados numéricos.**"
      ]
    },
    {
      "cell_type": "code",
      "metadata": {
        "id": "LTAKkhB-iIkZ",
        "colab_type": "code",
        "colab": {
          "base_uri": "https://localhost:8080/",
          "height": 197
        },
        "outputId": "428638c0-1183-49ff-9326-c403aaa5c4c8"
      },
      "source": [
        "data.loc[data.sex_upon_outcome == 'Neutered Male', 'sex_upon_outcome'] = 0\n",
        "data.loc[data.sex_upon_outcome == 'Intact Male', 'sex_upon_outcome'] = 1\n",
        "data.loc[data.sex_upon_outcome == 'Spayed Female', 'sex_upon_outcome'] = 2\n",
        "data.loc[data.sex_upon_outcome == 'Intact Female', 'sex_upon_outcome'] = 3\n",
        "data.loc[data.sex_upon_outcome == 'Unknown', 'sex_upon_outcome'] = 4\n",
        "data.head()\n"
      ],
      "execution_count": 50,
      "outputs": [
        {
          "output_type": "execute_result",
          "data": {
            "text/html": [
              "<div>\n",
              "<style scoped>\n",
              "    .dataframe tbody tr th:only-of-type {\n",
              "        vertical-align: middle;\n",
              "    }\n",
              "\n",
              "    .dataframe tbody tr th {\n",
              "        vertical-align: top;\n",
              "    }\n",
              "\n",
              "    .dataframe thead th {\n",
              "        text-align: right;\n",
              "    }\n",
              "</style>\n",
              "<table border=\"1\" class=\"dataframe\">\n",
              "  <thead>\n",
              "    <tr style=\"text-align: right;\">\n",
              "      <th></th>\n",
              "      <th>animal_id</th>\n",
              "      <th>name</th>\n",
              "      <th>animal_type</th>\n",
              "      <th>breed</th>\n",
              "      <th>color</th>\n",
              "      <th>arrival_datetime</th>\n",
              "      <th>age_upon_outcome</th>\n",
              "      <th>sex_upon_outcome</th>\n",
              "      <th>outcome_type</th>\n",
              "      <th>outcome_subtype</th>\n",
              "    </tr>\n",
              "  </thead>\n",
              "  <tbody>\n",
              "    <tr>\n",
              "      <th>0</th>\n",
              "      <td>A682590</td>\n",
              "      <td>Rex</td>\n",
              "      <td>0</td>\n",
              "      <td>Mastiff/Boxer</td>\n",
              "      <td>Tan/White</td>\n",
              "      <td>2014-07-04T17:07:00</td>\n",
              "      <td>5 months</td>\n",
              "      <td>0</td>\n",
              "      <td>Adoption</td>\n",
              "      <td>NaN</td>\n",
              "    </tr>\n",
              "    <tr>\n",
              "      <th>1</th>\n",
              "      <td>A745909</td>\n",
              "      <td>NaN</td>\n",
              "      <td>0</td>\n",
              "      <td>Greyhound Mix</td>\n",
              "      <td>Tan/White</td>\n",
              "      <td>2017-03-30T16:27:00</td>\n",
              "      <td>1 year</td>\n",
              "      <td>2</td>\n",
              "      <td>Adoption</td>\n",
              "      <td>NaN</td>\n",
              "    </tr>\n",
              "    <tr>\n",
              "      <th>2</th>\n",
              "      <td>A741468</td>\n",
              "      <td>*Martha</td>\n",
              "      <td>0</td>\n",
              "      <td>Labrador Retriever Mix</td>\n",
              "      <td>Chocolate</td>\n",
              "      <td>2017-01-08T18:32:00</td>\n",
              "      <td>8 years</td>\n",
              "      <td>2</td>\n",
              "      <td>Adoption</td>\n",
              "      <td>NaN</td>\n",
              "    </tr>\n",
              "    <tr>\n",
              "      <th>3</th>\n",
              "      <td>A715697</td>\n",
              "      <td>NaN</td>\n",
              "      <td>0</td>\n",
              "      <td>Dachshund Mix</td>\n",
              "      <td>White/Black</td>\n",
              "      <td>2015-11-13T17:13:00</td>\n",
              "      <td>1 month</td>\n",
              "      <td>0</td>\n",
              "      <td>Adoption</td>\n",
              "      <td>NaN</td>\n",
              "    </tr>\n",
              "    <tr>\n",
              "      <th>4</th>\n",
              "      <td>A723449</td>\n",
              "      <td>NaN</td>\n",
              "      <td>1</td>\n",
              "      <td>Domestic Shorthair Mix</td>\n",
              "      <td>Brown Tabby</td>\n",
              "      <td>2016-04-10T18:23:00</td>\n",
              "      <td>1 year</td>\n",
              "      <td>3</td>\n",
              "      <td>Euthanasia</td>\n",
              "      <td>Suffering</td>\n",
              "    </tr>\n",
              "  </tbody>\n",
              "</table>\n",
              "</div>"
            ],
            "text/plain": [
              "  animal_id     name animal_type  ... sex_upon_outcome outcome_type outcome_subtype\n",
              "0   A682590      Rex           0  ...                0     Adoption             NaN\n",
              "1   A745909      NaN           0  ...                2     Adoption             NaN\n",
              "2   A741468  *Martha           0  ...                2     Adoption             NaN\n",
              "3   A715697      NaN           0  ...                0     Adoption             NaN\n",
              "4   A723449      NaN           1  ...                3   Euthanasia       Suffering\n",
              "\n",
              "[5 rows x 10 columns]"
            ]
          },
          "metadata": {
            "tags": []
          },
          "execution_count": 50
        }
      ]
    },
    {
      "cell_type": "code",
      "metadata": {
        "id": "dmsyl-WBWD0u",
        "colab_type": "code",
        "colab": {
          "base_uri": "https://localhost:8080/",
          "height": 52
        },
        "outputId": "7fea8910-5944-49a8-b00e-9f0f222b300e"
      },
      "source": [
        "#Verificando os destinos únicos dos animais presentes nos dados.\n",
        "data['outcome_type'].unique()"
      ],
      "execution_count": 51,
      "outputs": [
        {
          "output_type": "execute_result",
          "data": {
            "text/plain": [
              "array(['Adoption', 'Euthanasia', 'Transfer', 'Return to Owner', 'Died',\n",
              "       'Disposal', 'Missing', 'Relocate', 'Rto-Adopt'], dtype=object)"
            ]
          },
          "metadata": {
            "tags": []
          },
          "execution_count": 51
        }
      ]
    },
    {
      "cell_type": "markdown",
      "metadata": {
        "id": "O2a00RjzVUmE",
        "colab_type": "text"
      },
      "source": [
        "**Observações/Trabalhos Próximos:**\n",
        "\n",
        "Na coluna de idade: Deixar todas as linhas na mesma unidade.\n",
        "\n",
        "Na coluna de Raça e de Cor: Tratar as Strings múltiplas / Espaços em Branco e/ou Eliminar essas colunas.\n",
        "\n",
        "Na coluna de tempo: Fazer uma subtração entre o tempo atual e o tempo de chegada --> Tempo que o animal está no abrigo.\n",
        "\n",
        "Transformar todas as colunas para numéricas através de funções.\n",
        "\n"
      ]
    },
    {
      "cell_type": "code",
      "metadata": {
        "id": "k2bjOPlIWbBw",
        "colab_type": "code",
        "colab": {
          "base_uri": "https://localhost:8080/",
          "height": 84
        },
        "outputId": "5392937c-1f39-4fa2-b661-dd4992900096"
      },
      "source": [
        "#Verificando as colunas presentes no Data Frame.\n",
        "data.columns"
      ],
      "execution_count": null,
      "outputs": [
        {
          "output_type": "execute_result",
          "data": {
            "text/plain": [
              "Index(['animal_id', 'name', 'animal_type', 'breed', 'color',\n",
              "       'arrival_datetime', 'age_upon_outcome', 'sex_upon_outcome',\n",
              "       'outcome_type', 'outcome_subtype'],\n",
              "      dtype='object')"
            ]
          },
          "metadata": {
            "tags": []
          },
          "execution_count": 15
        }
      ]
    },
    {
      "cell_type": "code",
      "metadata": {
        "id": "XHC9GI4djAuU",
        "colab_type": "code",
        "colab": {
          "base_uri": "https://localhost:8080/",
          "height": 316
        },
        "outputId": "3c22cfcc-c3a3-4671-878f-254173358f35"
      },
      "source": [
        "#Resetando o ID do animal a partir do Index do Data Frame.\n",
        "data['animal_id'] = data['animal_id'].reset_index()\n",
        "data.head()"
      ],
      "execution_count": null,
      "outputs": [
        {
          "output_type": "execute_result",
          "data": {
            "text/html": [
              "<div>\n",
              "<style scoped>\n",
              "    .dataframe tbody tr th:only-of-type {\n",
              "        vertical-align: middle;\n",
              "    }\n",
              "\n",
              "    .dataframe tbody tr th {\n",
              "        vertical-align: top;\n",
              "    }\n",
              "\n",
              "    .dataframe thead th {\n",
              "        text-align: right;\n",
              "    }\n",
              "</style>\n",
              "<table border=\"1\" class=\"dataframe\">\n",
              "  <thead>\n",
              "    <tr style=\"text-align: right;\">\n",
              "      <th></th>\n",
              "      <th>animal_id</th>\n",
              "      <th>name</th>\n",
              "      <th>animal_type</th>\n",
              "      <th>breed</th>\n",
              "      <th>color</th>\n",
              "      <th>arrival_datetime</th>\n",
              "      <th>age_upon_outcome</th>\n",
              "      <th>sex_upon_outcome</th>\n",
              "      <th>outcome_type</th>\n",
              "      <th>outcome_subtype</th>\n",
              "    </tr>\n",
              "  </thead>\n",
              "  <tbody>\n",
              "    <tr>\n",
              "      <th>0</th>\n",
              "      <td>0</td>\n",
              "      <td>Rex</td>\n",
              "      <td>0</td>\n",
              "      <td>Mastiff/Boxer</td>\n",
              "      <td>Tan/White</td>\n",
              "      <td>2014-07-04T17:07:00</td>\n",
              "      <td>5 months</td>\n",
              "      <td>0</td>\n",
              "      <td>Adoption</td>\n",
              "      <td>NaN</td>\n",
              "    </tr>\n",
              "    <tr>\n",
              "      <th>1</th>\n",
              "      <td>1</td>\n",
              "      <td>NaN</td>\n",
              "      <td>0</td>\n",
              "      <td>Greyhound Mix</td>\n",
              "      <td>Tan/White</td>\n",
              "      <td>2017-03-30T16:27:00</td>\n",
              "      <td>1 year</td>\n",
              "      <td>2</td>\n",
              "      <td>Adoption</td>\n",
              "      <td>NaN</td>\n",
              "    </tr>\n",
              "    <tr>\n",
              "      <th>2</th>\n",
              "      <td>2</td>\n",
              "      <td>*Martha</td>\n",
              "      <td>0</td>\n",
              "      <td>Labrador Retriever Mix</td>\n",
              "      <td>Chocolate</td>\n",
              "      <td>2017-01-08T18:32:00</td>\n",
              "      <td>8 years</td>\n",
              "      <td>2</td>\n",
              "      <td>Adoption</td>\n",
              "      <td>NaN</td>\n",
              "    </tr>\n",
              "    <tr>\n",
              "      <th>3</th>\n",
              "      <td>3</td>\n",
              "      <td>NaN</td>\n",
              "      <td>0</td>\n",
              "      <td>Dachshund Mix</td>\n",
              "      <td>White/Black</td>\n",
              "      <td>2015-11-13T17:13:00</td>\n",
              "      <td>1 month</td>\n",
              "      <td>0</td>\n",
              "      <td>Adoption</td>\n",
              "      <td>NaN</td>\n",
              "    </tr>\n",
              "    <tr>\n",
              "      <th>4</th>\n",
              "      <td>4</td>\n",
              "      <td>NaN</td>\n",
              "      <td>1</td>\n",
              "      <td>Domestic Shorthair Mix</td>\n",
              "      <td>Brown Tabby</td>\n",
              "      <td>2016-04-10T18:23:00</td>\n",
              "      <td>1 year</td>\n",
              "      <td>3</td>\n",
              "      <td>Euthanasia</td>\n",
              "      <td>Suffering</td>\n",
              "    </tr>\n",
              "  </tbody>\n",
              "</table>\n",
              "</div>"
            ],
            "text/plain": [
              "  animal_id     name animal_type  ... sex_upon_outcome outcome_type outcome_subtype\n",
              "0         0      Rex           0  ...                0     Adoption             NaN\n",
              "1         1      NaN           0  ...                2     Adoption             NaN\n",
              "2         2  *Martha           0  ...                2     Adoption             NaN\n",
              "3         3      NaN           0  ...                0     Adoption             NaN\n",
              "4         4      NaN           1  ...                3   Euthanasia       Suffering\n",
              "\n",
              "[5 rows x 10 columns]"
            ]
          },
          "metadata": {
            "tags": []
          },
          "execution_count": 16
        }
      ]
    },
    {
      "cell_type": "code",
      "metadata": {
        "id": "aQfvm_JKVhB4",
        "colab_type": "code",
        "colab": {
          "base_uri": "https://localhost:8080/",
          "height": 197
        },
        "outputId": "7a00d1bf-2925-4f8a-d4d1-aa687a8b2c61"
      },
      "source": [
        "#Criando novo Data Frame a partir do original, selecionando somente as colunas de interesse.\n",
        "data_1 = data[['animal_id', 'animal_type', 'sex_upon_outcome', 'outcome_type']]\n",
        "data_1.head()"
      ],
      "execution_count": 52,
      "outputs": [
        {
          "output_type": "execute_result",
          "data": {
            "text/html": [
              "<div>\n",
              "<style scoped>\n",
              "    .dataframe tbody tr th:only-of-type {\n",
              "        vertical-align: middle;\n",
              "    }\n",
              "\n",
              "    .dataframe tbody tr th {\n",
              "        vertical-align: top;\n",
              "    }\n",
              "\n",
              "    .dataframe thead th {\n",
              "        text-align: right;\n",
              "    }\n",
              "</style>\n",
              "<table border=\"1\" class=\"dataframe\">\n",
              "  <thead>\n",
              "    <tr style=\"text-align: right;\">\n",
              "      <th></th>\n",
              "      <th>animal_id</th>\n",
              "      <th>animal_type</th>\n",
              "      <th>sex_upon_outcome</th>\n",
              "      <th>outcome_type</th>\n",
              "    </tr>\n",
              "  </thead>\n",
              "  <tbody>\n",
              "    <tr>\n",
              "      <th>0</th>\n",
              "      <td>A682590</td>\n",
              "      <td>0</td>\n",
              "      <td>0</td>\n",
              "      <td>Adoption</td>\n",
              "    </tr>\n",
              "    <tr>\n",
              "      <th>1</th>\n",
              "      <td>A745909</td>\n",
              "      <td>0</td>\n",
              "      <td>2</td>\n",
              "      <td>Adoption</td>\n",
              "    </tr>\n",
              "    <tr>\n",
              "      <th>2</th>\n",
              "      <td>A741468</td>\n",
              "      <td>0</td>\n",
              "      <td>2</td>\n",
              "      <td>Adoption</td>\n",
              "    </tr>\n",
              "    <tr>\n",
              "      <th>3</th>\n",
              "      <td>A715697</td>\n",
              "      <td>0</td>\n",
              "      <td>0</td>\n",
              "      <td>Adoption</td>\n",
              "    </tr>\n",
              "    <tr>\n",
              "      <th>4</th>\n",
              "      <td>A723449</td>\n",
              "      <td>1</td>\n",
              "      <td>3</td>\n",
              "      <td>Euthanasia</td>\n",
              "    </tr>\n",
              "  </tbody>\n",
              "</table>\n",
              "</div>"
            ],
            "text/plain": [
              "  animal_id animal_type sex_upon_outcome outcome_type\n",
              "0   A682590           0                0     Adoption\n",
              "1   A745909           0                2     Adoption\n",
              "2   A741468           0                2     Adoption\n",
              "3   A715697           0                0     Adoption\n",
              "4   A723449           1                3   Euthanasia"
            ]
          },
          "metadata": {
            "tags": []
          },
          "execution_count": 52
        }
      ]
    },
    {
      "cell_type": "code",
      "metadata": {
        "id": "ngywYhIUW4pU",
        "colab_type": "code",
        "colab": {
          "base_uri": "https://localhost:8080/",
          "height": 202
        },
        "outputId": "1402141d-a87a-45bd-cd4d-dac997adae8e"
      },
      "source": [
        "#Verificando as informações do novo Data Frame (Tipagem dos Dados).\n",
        "data_1.info()"
      ],
      "execution_count": null,
      "outputs": [
        {
          "output_type": "stream",
          "text": [
            "<class 'pandas.core.frame.DataFrame'>\n",
            "RangeIndex: 45278 entries, 0 to 45277\n",
            "Data columns (total 4 columns):\n",
            " #   Column            Non-Null Count  Dtype \n",
            "---  ------            --------------  ----- \n",
            " 0   animal_id         45278 non-null  object\n",
            " 1   animal_type       45278 non-null  object\n",
            " 2   sex_upon_outcome  45278 non-null  object\n",
            " 3   outcome_type      45278 non-null  object\n",
            "dtypes: object(4)\n",
            "memory usage: 1.4+ MB\n"
          ],
          "name": "stdout"
        }
      ]
    },
    {
      "cell_type": "code",
      "metadata": {
        "id": "FAWY5EXFYpfL",
        "colab_type": "code",
        "colab": {
          "base_uri": "https://localhost:8080/",
          "height": 197
        },
        "outputId": "b6d4f9b1-af8a-4338-ca1b-610a2a4bc179"
      },
      "source": [
        "#Dividindo os dados para treino e teste.\n",
        "#Selecionando somente as features e armazenando em X.\n",
        "X = data_1[['animal_type', 'sex_upon_outcome']]\n",
        "#Padrão em estudos de aprendizado de máquina.\n",
        "X.head()"
      ],
      "execution_count": 89,
      "outputs": [
        {
          "output_type": "execute_result",
          "data": {
            "text/html": [
              "<div>\n",
              "<style scoped>\n",
              "    .dataframe tbody tr th:only-of-type {\n",
              "        vertical-align: middle;\n",
              "    }\n",
              "\n",
              "    .dataframe tbody tr th {\n",
              "        vertical-align: top;\n",
              "    }\n",
              "\n",
              "    .dataframe thead th {\n",
              "        text-align: right;\n",
              "    }\n",
              "</style>\n",
              "<table border=\"1\" class=\"dataframe\">\n",
              "  <thead>\n",
              "    <tr style=\"text-align: right;\">\n",
              "      <th></th>\n",
              "      <th>animal_type</th>\n",
              "      <th>sex_upon_outcome</th>\n",
              "    </tr>\n",
              "  </thead>\n",
              "  <tbody>\n",
              "    <tr>\n",
              "      <th>0</th>\n",
              "      <td>0</td>\n",
              "      <td>0</td>\n",
              "    </tr>\n",
              "    <tr>\n",
              "      <th>1</th>\n",
              "      <td>0</td>\n",
              "      <td>2</td>\n",
              "    </tr>\n",
              "    <tr>\n",
              "      <th>2</th>\n",
              "      <td>0</td>\n",
              "      <td>2</td>\n",
              "    </tr>\n",
              "    <tr>\n",
              "      <th>3</th>\n",
              "      <td>0</td>\n",
              "      <td>0</td>\n",
              "    </tr>\n",
              "    <tr>\n",
              "      <th>4</th>\n",
              "      <td>1</td>\n",
              "      <td>3</td>\n",
              "    </tr>\n",
              "  </tbody>\n",
              "</table>\n",
              "</div>"
            ],
            "text/plain": [
              "  animal_type sex_upon_outcome\n",
              "0           0                0\n",
              "1           0                2\n",
              "2           0                2\n",
              "3           0                0\n",
              "4           1                3"
            ]
          },
          "metadata": {
            "tags": []
          },
          "execution_count": 89
        }
      ]
    },
    {
      "cell_type": "code",
      "metadata": {
        "id": "FQuFsAYybAid",
        "colab_type": "code",
        "colab": {
          "base_uri": "https://localhost:8080/",
          "height": 34
        },
        "outputId": "2c7948a2-5734-46bd-f526-49c41797406f"
      },
      "source": [
        "#Conferindo estrutura dos dados.\n",
        "X.shape"
      ],
      "execution_count": 90,
      "outputs": [
        {
          "output_type": "execute_result",
          "data": {
            "text/plain": [
              "(45278, 2)"
            ]
          },
          "metadata": {
            "tags": []
          },
          "execution_count": 90
        }
      ]
    },
    {
      "cell_type": "code",
      "metadata": {
        "id": "D4m5rMT7ayhp",
        "colab_type": "code",
        "colab": {
          "base_uri": "https://localhost:8080/",
          "height": 197
        },
        "outputId": "4ddeeb78-49ca-4250-e7da-6169b2ba97c0"
      },
      "source": [
        "#Armazenando o Label em Y, para os dados de treino.\n",
        "y = data[['outcome_type']]\n",
        "y.head()"
      ],
      "execution_count": 77,
      "outputs": [
        {
          "output_type": "execute_result",
          "data": {
            "text/html": [
              "<div>\n",
              "<style scoped>\n",
              "    .dataframe tbody tr th:only-of-type {\n",
              "        vertical-align: middle;\n",
              "    }\n",
              "\n",
              "    .dataframe tbody tr th {\n",
              "        vertical-align: top;\n",
              "    }\n",
              "\n",
              "    .dataframe thead th {\n",
              "        text-align: right;\n",
              "    }\n",
              "</style>\n",
              "<table border=\"1\" class=\"dataframe\">\n",
              "  <thead>\n",
              "    <tr style=\"text-align: right;\">\n",
              "      <th></th>\n",
              "      <th>outcome_type</th>\n",
              "    </tr>\n",
              "  </thead>\n",
              "  <tbody>\n",
              "    <tr>\n",
              "      <th>0</th>\n",
              "      <td>Adoption</td>\n",
              "    </tr>\n",
              "    <tr>\n",
              "      <th>1</th>\n",
              "      <td>Adoption</td>\n",
              "    </tr>\n",
              "    <tr>\n",
              "      <th>2</th>\n",
              "      <td>Adoption</td>\n",
              "    </tr>\n",
              "    <tr>\n",
              "      <th>3</th>\n",
              "      <td>Adoption</td>\n",
              "    </tr>\n",
              "    <tr>\n",
              "      <th>4</th>\n",
              "      <td>Euthanasia</td>\n",
              "    </tr>\n",
              "  </tbody>\n",
              "</table>\n",
              "</div>"
            ],
            "text/plain": [
              "  outcome_type\n",
              "0     Adoption\n",
              "1     Adoption\n",
              "2     Adoption\n",
              "3     Adoption\n",
              "4   Euthanasia"
            ]
          },
          "metadata": {
            "tags": []
          },
          "execution_count": 77
        }
      ]
    },
    {
      "cell_type": "code",
      "metadata": {
        "id": "EvSybCN8bCvD",
        "colab_type": "code",
        "colab": {
          "base_uri": "https://localhost:8080/",
          "height": 34
        },
        "outputId": "22c67672-08f5-4fab-a89c-2aacb3e1390d"
      },
      "source": [
        "#Conferindo estrutura dos dados.\n",
        "y.shape"
      ],
      "execution_count": 78,
      "outputs": [
        {
          "output_type": "execute_result",
          "data": {
            "text/plain": [
              "(45278, 1)"
            ]
          },
          "metadata": {
            "tags": []
          },
          "execution_count": 78
        }
      ]
    },
    {
      "cell_type": "code",
      "metadata": {
        "id": "0tHmfVqVJhY3",
        "colab_type": "code",
        "colab": {
          "base_uri": "https://localhost:8080/",
          "height": 197
        },
        "outputId": "730de1a5-3710-422f-8b26-ef8d34f0be76"
      },
      "source": [
        "#Importando dados de teste e armazendo em Data Frame.\n",
        "data_test = pd.read_csv('https://raw.githubusercontent.com/LNascimentoD/HackathonDS/master/Mensagem_Sem_T%C3%ADtulo/test.csv/test.csv')\n",
        "data_test.head()"
      ],
      "execution_count": 79,
      "outputs": [
        {
          "output_type": "execute_result",
          "data": {
            "text/html": [
              "<div>\n",
              "<style scoped>\n",
              "    .dataframe tbody tr th:only-of-type {\n",
              "        vertical-align: middle;\n",
              "    }\n",
              "\n",
              "    .dataframe tbody tr th {\n",
              "        vertical-align: top;\n",
              "    }\n",
              "\n",
              "    .dataframe thead th {\n",
              "        text-align: right;\n",
              "    }\n",
              "</style>\n",
              "<table border=\"1\" class=\"dataframe\">\n",
              "  <thead>\n",
              "    <tr style=\"text-align: right;\">\n",
              "      <th></th>\n",
              "      <th>animal_id</th>\n",
              "      <th>name</th>\n",
              "      <th>animal_type</th>\n",
              "      <th>breed</th>\n",
              "      <th>color</th>\n",
              "      <th>arrival_datetime</th>\n",
              "      <th>age_upon_outcome</th>\n",
              "      <th>sex_upon_outcome</th>\n",
              "    </tr>\n",
              "  </thead>\n",
              "  <tbody>\n",
              "    <tr>\n",
              "      <th>0</th>\n",
              "      <td>A725807</td>\n",
              "      <td>Blanca</td>\n",
              "      <td>Dog</td>\n",
              "      <td>Australian Shepherd Mix</td>\n",
              "      <td>White/Buff</td>\n",
              "      <td>2016-05-08T12:23:00</td>\n",
              "      <td>14 years</td>\n",
              "      <td>Spayed Female</td>\n",
              "    </tr>\n",
              "    <tr>\n",
              "      <th>1</th>\n",
              "      <td>A713176</td>\n",
              "      <td>Ajax</td>\n",
              "      <td>Cat</td>\n",
              "      <td>Domestic Longhair Mix</td>\n",
              "      <td>Blue</td>\n",
              "      <td>2016-01-09T17:47:00</td>\n",
              "      <td>4 months</td>\n",
              "      <td>Intact Female</td>\n",
              "    </tr>\n",
              "    <tr>\n",
              "      <th>2</th>\n",
              "      <td>A752992</td>\n",
              "      <td>*Azul</td>\n",
              "      <td>Cat</td>\n",
              "      <td>Domestic Shorthair Mix</td>\n",
              "      <td>Blue/White</td>\n",
              "      <td>2017-07-05T14:37:00</td>\n",
              "      <td>4 weeks</td>\n",
              "      <td>Intact Male</td>\n",
              "    </tr>\n",
              "    <tr>\n",
              "      <th>3</th>\n",
              "      <td>A753923</td>\n",
              "      <td>NaN</td>\n",
              "      <td>Bird</td>\n",
              "      <td>Chicken Mix</td>\n",
              "      <td>Black/Brown</td>\n",
              "      <td>2017-07-15T15:16:00</td>\n",
              "      <td>2 weeks</td>\n",
              "      <td>Unknown</td>\n",
              "    </tr>\n",
              "    <tr>\n",
              "      <th>4</th>\n",
              "      <td>A763405</td>\n",
              "      <td>NaN</td>\n",
              "      <td>Dog</td>\n",
              "      <td>German Shepherd Mix</td>\n",
              "      <td>Black/Brown</td>\n",
              "      <td>2017-12-09T00:00:00</td>\n",
              "      <td>1 month</td>\n",
              "      <td>Intact Female</td>\n",
              "    </tr>\n",
              "  </tbody>\n",
              "</table>\n",
              "</div>"
            ],
            "text/plain": [
              "  animal_id    name  ... age_upon_outcome sex_upon_outcome\n",
              "0   A725807  Blanca  ...         14 years    Spayed Female\n",
              "1   A713176    Ajax  ...         4 months    Intact Female\n",
              "2   A752992   *Azul  ...          4 weeks      Intact Male\n",
              "3   A753923     NaN  ...          2 weeks          Unknown\n",
              "4   A763405     NaN  ...          1 month    Intact Female\n",
              "\n",
              "[5 rows x 8 columns]"
            ]
          },
          "metadata": {
            "tags": []
          },
          "execution_count": 79
        }
      ]
    },
    {
      "cell_type": "code",
      "metadata": {
        "id": "zJz0XVAQJhbV",
        "colab_type": "code",
        "colab": {
          "base_uri": "https://localhost:8080/",
          "height": 197
        },
        "outputId": "3f42493d-6b03-4e6e-b668-7477c06f5114"
      },
      "source": [
        "#Selecionando as features de interesse e armazenando em um novo Data Frame, para teste.\n",
        "test = data_test[['animal_type', 'sex_upon_outcome']]\n",
        "test.head()"
      ],
      "execution_count": 80,
      "outputs": [
        {
          "output_type": "execute_result",
          "data": {
            "text/html": [
              "<div>\n",
              "<style scoped>\n",
              "    .dataframe tbody tr th:only-of-type {\n",
              "        vertical-align: middle;\n",
              "    }\n",
              "\n",
              "    .dataframe tbody tr th {\n",
              "        vertical-align: top;\n",
              "    }\n",
              "\n",
              "    .dataframe thead th {\n",
              "        text-align: right;\n",
              "    }\n",
              "</style>\n",
              "<table border=\"1\" class=\"dataframe\">\n",
              "  <thead>\n",
              "    <tr style=\"text-align: right;\">\n",
              "      <th></th>\n",
              "      <th>animal_type</th>\n",
              "      <th>sex_upon_outcome</th>\n",
              "    </tr>\n",
              "  </thead>\n",
              "  <tbody>\n",
              "    <tr>\n",
              "      <th>0</th>\n",
              "      <td>Dog</td>\n",
              "      <td>Spayed Female</td>\n",
              "    </tr>\n",
              "    <tr>\n",
              "      <th>1</th>\n",
              "      <td>Cat</td>\n",
              "      <td>Intact Female</td>\n",
              "    </tr>\n",
              "    <tr>\n",
              "      <th>2</th>\n",
              "      <td>Cat</td>\n",
              "      <td>Intact Male</td>\n",
              "    </tr>\n",
              "    <tr>\n",
              "      <th>3</th>\n",
              "      <td>Bird</td>\n",
              "      <td>Unknown</td>\n",
              "    </tr>\n",
              "    <tr>\n",
              "      <th>4</th>\n",
              "      <td>Dog</td>\n",
              "      <td>Intact Female</td>\n",
              "    </tr>\n",
              "  </tbody>\n",
              "</table>\n",
              "</div>"
            ],
            "text/plain": [
              "  animal_type sex_upon_outcome\n",
              "0         Dog    Spayed Female\n",
              "1         Cat    Intact Female\n",
              "2         Cat      Intact Male\n",
              "3        Bird          Unknown\n",
              "4         Dog    Intact Female"
            ]
          },
          "metadata": {
            "tags": []
          },
          "execution_count": 80
        }
      ]
    },
    {
      "cell_type": "markdown",
      "metadata": {
        "id": "yaGpDwpplBM1",
        "colab_type": "text"
      },
      "source": [
        "**Iremos repetir o processo feito para os dados de treino. Transformar as informações em dados numéricos.**"
      ]
    },
    {
      "cell_type": "code",
      "metadata": {
        "id": "QxY1rLgFJhjU",
        "colab_type": "code",
        "colab": {
          "base_uri": "https://localhost:8080/",
          "height": 550
        },
        "outputId": "9a2def4d-25b2-4323-a130-296e7a04765a"
      },
      "source": [
        "test.loc[test.animal_type == 'Dog', 'animal_type'] = 0\n",
        "test.loc[test.animal_type == 'Cat', 'animal_type'] = 1\n",
        "test.loc[test.animal_type == 'Bird', 'animal_type'] = 2\n",
        "test.loc[test.animal_type == 'Livestock', 'animal_type'] = 3\n",
        "test.loc[test.animal_type == 'Other', 'animal_type'] = 4"
      ],
      "execution_count": 81,
      "outputs": [
        {
          "output_type": "stream",
          "text": [
            "/usr/local/lib/python3.6/dist-packages/pandas/core/indexing.py:671: SettingWithCopyWarning: \n",
            "A value is trying to be set on a copy of a slice from a DataFrame\n",
            "\n",
            "See the caveats in the documentation: https://pandas.pydata.org/pandas-docs/stable/user_guide/indexing.html#returning-a-view-versus-a-copy\n",
            "  self._setitem_with_indexer(indexer, value)\n",
            "/usr/local/lib/python3.6/dist-packages/ipykernel_launcher.py:1: SettingWithCopyWarning: \n",
            "A value is trying to be set on a copy of a slice from a DataFrame\n",
            "\n",
            "See the caveats in the documentation: https://pandas.pydata.org/pandas-docs/stable/user_guide/indexing.html#returning-a-view-versus-a-copy\n",
            "  \"\"\"Entry point for launching an IPython kernel.\n",
            "/usr/local/lib/python3.6/dist-packages/ipykernel_launcher.py:2: SettingWithCopyWarning: \n",
            "A value is trying to be set on a copy of a slice from a DataFrame\n",
            "\n",
            "See the caveats in the documentation: https://pandas.pydata.org/pandas-docs/stable/user_guide/indexing.html#returning-a-view-versus-a-copy\n",
            "  \n",
            "/usr/local/lib/python3.6/dist-packages/ipykernel_launcher.py:3: SettingWithCopyWarning: \n",
            "A value is trying to be set on a copy of a slice from a DataFrame\n",
            "\n",
            "See the caveats in the documentation: https://pandas.pydata.org/pandas-docs/stable/user_guide/indexing.html#returning-a-view-versus-a-copy\n",
            "  This is separate from the ipykernel package so we can avoid doing imports until\n",
            "/usr/local/lib/python3.6/dist-packages/ipykernel_launcher.py:4: SettingWithCopyWarning: \n",
            "A value is trying to be set on a copy of a slice from a DataFrame\n",
            "\n",
            "See the caveats in the documentation: https://pandas.pydata.org/pandas-docs/stable/user_guide/indexing.html#returning-a-view-versus-a-copy\n",
            "  after removing the cwd from sys.path.\n",
            "/usr/local/lib/python3.6/dist-packages/ipykernel_launcher.py:5: SettingWithCopyWarning: \n",
            "A value is trying to be set on a copy of a slice from a DataFrame\n",
            "\n",
            "See the caveats in the documentation: https://pandas.pydata.org/pandas-docs/stable/user_guide/indexing.html#returning-a-view-versus-a-copy\n",
            "  \"\"\"\n"
          ],
          "name": "stderr"
        }
      ]
    },
    {
      "cell_type": "code",
      "metadata": {
        "id": "gbRojJkCJhle",
        "colab_type": "code",
        "colab": {
          "base_uri": "https://localhost:8080/",
          "height": 550
        },
        "outputId": "bd3b8512-6f75-4a79-ec62-5d0db5eb0253"
      },
      "source": [
        "test.loc[test.sex_upon_outcome == 'Neutered Male', 'sex_upon_outcome'] = 0\n",
        "test.loc[test.sex_upon_outcome == 'Intact Male', 'sex_upon_outcome'] = 1\n",
        "test.loc[test.sex_upon_outcome == 'Spayed Female', 'sex_upon_outcome'] = 2\n",
        "test.loc[test.sex_upon_outcome == 'Intact Female', 'sex_upon_outcome'] = 3\n",
        "test.loc[test.sex_upon_outcome == 'Unknown', 'sex_upon_outcome'] = 4"
      ],
      "execution_count": 82,
      "outputs": [
        {
          "output_type": "stream",
          "text": [
            "/usr/local/lib/python3.6/dist-packages/pandas/core/indexing.py:671: SettingWithCopyWarning: \n",
            "A value is trying to be set on a copy of a slice from a DataFrame\n",
            "\n",
            "See the caveats in the documentation: https://pandas.pydata.org/pandas-docs/stable/user_guide/indexing.html#returning-a-view-versus-a-copy\n",
            "  self._setitem_with_indexer(indexer, value)\n",
            "/usr/local/lib/python3.6/dist-packages/ipykernel_launcher.py:1: SettingWithCopyWarning: \n",
            "A value is trying to be set on a copy of a slice from a DataFrame\n",
            "\n",
            "See the caveats in the documentation: https://pandas.pydata.org/pandas-docs/stable/user_guide/indexing.html#returning-a-view-versus-a-copy\n",
            "  \"\"\"Entry point for launching an IPython kernel.\n",
            "/usr/local/lib/python3.6/dist-packages/ipykernel_launcher.py:2: SettingWithCopyWarning: \n",
            "A value is trying to be set on a copy of a slice from a DataFrame\n",
            "\n",
            "See the caveats in the documentation: https://pandas.pydata.org/pandas-docs/stable/user_guide/indexing.html#returning-a-view-versus-a-copy\n",
            "  \n",
            "/usr/local/lib/python3.6/dist-packages/ipykernel_launcher.py:3: SettingWithCopyWarning: \n",
            "A value is trying to be set on a copy of a slice from a DataFrame\n",
            "\n",
            "See the caveats in the documentation: https://pandas.pydata.org/pandas-docs/stable/user_guide/indexing.html#returning-a-view-versus-a-copy\n",
            "  This is separate from the ipykernel package so we can avoid doing imports until\n",
            "/usr/local/lib/python3.6/dist-packages/ipykernel_launcher.py:4: SettingWithCopyWarning: \n",
            "A value is trying to be set on a copy of a slice from a DataFrame\n",
            "\n",
            "See the caveats in the documentation: https://pandas.pydata.org/pandas-docs/stable/user_guide/indexing.html#returning-a-view-versus-a-copy\n",
            "  after removing the cwd from sys.path.\n",
            "/usr/local/lib/python3.6/dist-packages/ipykernel_launcher.py:5: SettingWithCopyWarning: \n",
            "A value is trying to be set on a copy of a slice from a DataFrame\n",
            "\n",
            "See the caveats in the documentation: https://pandas.pydata.org/pandas-docs/stable/user_guide/indexing.html#returning-a-view-versus-a-copy\n",
            "  \"\"\"\n"
          ],
          "name": "stderr"
        }
      ]
    },
    {
      "cell_type": "code",
      "metadata": {
        "id": "3YLFhMOYJhnj",
        "colab_type": "code",
        "colab": {
          "base_uri": "https://localhost:8080/",
          "height": 67
        },
        "outputId": "e888950b-ceea-49c2-ee24-23b8669124d5"
      },
      "source": [
        "#Verificando a existência de dados nulos/ausentes no Data Frame de teste.\n",
        "test.isna().sum()"
      ],
      "execution_count": null,
      "outputs": [
        {
          "output_type": "execute_result",
          "data": {
            "text/plain": [
              "animal_type         0\n",
              "sex_upon_outcome    1\n",
              "dtype: int64"
            ]
          },
          "metadata": {
            "tags": []
          },
          "execution_count": 88
        }
      ]
    },
    {
      "cell_type": "code",
      "metadata": {
        "id": "l-1BrAlaJhwg",
        "colab_type": "code",
        "colab": {
          "base_uri": "https://localhost:8080/",
          "height": 34
        },
        "outputId": "5ba24e11-02f3-44cf-d110-e493d5d65f8a"
      },
      "source": [
        "#Conferindo a estrutura dos dados antes do tratamento.\n",
        "test.shape"
      ],
      "execution_count": 83,
      "outputs": [
        {
          "output_type": "execute_result",
          "data": {
            "text/plain": [
              "(25570, 2)"
            ]
          },
          "metadata": {
            "tags": []
          },
          "execution_count": 83
        }
      ]
    },
    {
      "cell_type": "code",
      "metadata": {
        "id": "cG9ef1_PJh1j",
        "colab_type": "code",
        "colab": {}
      },
      "source": [
        "#Removendo as linhas em que há dados nulos/ausentes.\n",
        "test = test.loc[test.sex_upon_outcome.isna() == False, :]"
      ],
      "execution_count": 84,
      "outputs": []
    },
    {
      "cell_type": "code",
      "metadata": {
        "id": "sG7CNEJLJhuB",
        "colab_type": "code",
        "colab": {
          "base_uri": "https://localhost:8080/",
          "height": 34
        },
        "outputId": "f961d521-dfa9-4266-ba84-f8e58e1b987d"
      },
      "source": [
        "#Conferindo a estrutura dos dados após o tratamento.\n",
        "test.shape"
      ],
      "execution_count": 85,
      "outputs": [
        {
          "output_type": "execute_result",
          "data": {
            "text/plain": [
              "(25569, 2)"
            ]
          },
          "metadata": {
            "tags": []
          },
          "execution_count": 85
        }
      ]
    },
    {
      "cell_type": "code",
      "metadata": {
        "id": "ybBQtVLJJhrq",
        "colab_type": "code",
        "colab": {
          "base_uri": "https://localhost:8080/",
          "height": 197
        },
        "outputId": "5a7423ed-9107-4c40-a5cf-18190c632794"
      },
      "source": [
        "#Visualizando os dados.\n",
        "test.head()"
      ],
      "execution_count": 86,
      "outputs": [
        {
          "output_type": "execute_result",
          "data": {
            "text/html": [
              "<div>\n",
              "<style scoped>\n",
              "    .dataframe tbody tr th:only-of-type {\n",
              "        vertical-align: middle;\n",
              "    }\n",
              "\n",
              "    .dataframe tbody tr th {\n",
              "        vertical-align: top;\n",
              "    }\n",
              "\n",
              "    .dataframe thead th {\n",
              "        text-align: right;\n",
              "    }\n",
              "</style>\n",
              "<table border=\"1\" class=\"dataframe\">\n",
              "  <thead>\n",
              "    <tr style=\"text-align: right;\">\n",
              "      <th></th>\n",
              "      <th>animal_type</th>\n",
              "      <th>sex_upon_outcome</th>\n",
              "    </tr>\n",
              "  </thead>\n",
              "  <tbody>\n",
              "    <tr>\n",
              "      <th>0</th>\n",
              "      <td>0</td>\n",
              "      <td>2</td>\n",
              "    </tr>\n",
              "    <tr>\n",
              "      <th>1</th>\n",
              "      <td>1</td>\n",
              "      <td>3</td>\n",
              "    </tr>\n",
              "    <tr>\n",
              "      <th>2</th>\n",
              "      <td>1</td>\n",
              "      <td>1</td>\n",
              "    </tr>\n",
              "    <tr>\n",
              "      <th>3</th>\n",
              "      <td>2</td>\n",
              "      <td>4</td>\n",
              "    </tr>\n",
              "    <tr>\n",
              "      <th>4</th>\n",
              "      <td>0</td>\n",
              "      <td>3</td>\n",
              "    </tr>\n",
              "  </tbody>\n",
              "</table>\n",
              "</div>"
            ],
            "text/plain": [
              "  animal_type sex_upon_outcome\n",
              "0           0                2\n",
              "1           1                3\n",
              "2           1                1\n",
              "3           2                4\n",
              "4           0                3"
            ]
          },
          "metadata": {
            "tags": []
          },
          "execution_count": 86
        }
      ]
    },
    {
      "cell_type": "code",
      "metadata": {
        "id": "p5IDokUEJhqG",
        "colab_type": "code",
        "colab": {}
      },
      "source": [
        "#Importando modelo da biblioteca Sklearn\n",
        "from sklearn.tree import DecisionTreeClassifier"
      ],
      "execution_count": null,
      "outputs": []
    },
    {
      "cell_type": "code",
      "metadata": {
        "id": "fvk-WdDlJhgd",
        "colab_type": "code",
        "colab": {}
      },
      "source": [
        "#Instanciando modelo.\n",
        "tree = DecisionTreeClassifier()"
      ],
      "execution_count": 87,
      "outputs": []
    },
    {
      "cell_type": "code",
      "metadata": {
        "id": "JFzsNBoEJhdx",
        "colab_type": "code",
        "colab": {
          "base_uri": "https://localhost:8080/",
          "height": 123
        },
        "outputId": "799f2057-4e7a-45b6-a340-78bac711abb2"
      },
      "source": [
        "#Treinando o modelo com os dados de treino.\n",
        "tree.fit(X, y)"
      ],
      "execution_count": 92,
      "outputs": [
        {
          "output_type": "execute_result",
          "data": {
            "text/plain": [
              "DecisionTreeClassifier(ccp_alpha=0.0, class_weight=None, criterion='gini',\n",
              "                       max_depth=None, max_features=None, max_leaf_nodes=None,\n",
              "                       min_impurity_decrease=0.0, min_impurity_split=None,\n",
              "                       min_samples_leaf=1, min_samples_split=2,\n",
              "                       min_weight_fraction_leaf=0.0, presort='deprecated',\n",
              "                       random_state=None, splitter='best')"
            ]
          },
          "metadata": {
            "tags": []
          },
          "execution_count": 92
        }
      ]
    },
    {
      "cell_type": "code",
      "metadata": {
        "id": "SmJ8uwt9JhRn",
        "colab_type": "code",
        "colab": {}
      },
      "source": [
        "#Predizendo os valores a partir dos dados de teste.\n",
        "predict = tree.predict(test)"
      ],
      "execution_count": 93,
      "outputs": []
    },
    {
      "cell_type": "code",
      "metadata": {
        "id": "AFdS5wJHJhHd",
        "colab_type": "code",
        "colab": {
          "base_uri": "https://localhost:8080/",
          "height": 52
        },
        "outputId": "0a1e9c5b-3a82-418f-eebe-0b138070e4a0"
      },
      "source": [
        "#Verificando as predições.\n",
        "predict"
      ],
      "execution_count": 94,
      "outputs": [
        {
          "output_type": "execute_result",
          "data": {
            "text/plain": [
              "array(['Adoption', 'Transfer', 'Transfer', ..., 'Transfer', 'Adoption',\n",
              "       'Transfer'], dtype=object)"
            ]
          },
          "metadata": {
            "tags": []
          },
          "execution_count": 94
        }
      ]
    },
    {
      "cell_type": "code",
      "metadata": {
        "id": "SCcoBMITJhC4",
        "colab_type": "code",
        "colab": {
          "base_uri": "https://localhost:8080/",
          "height": 34
        },
        "outputId": "0c086244-8d44-47f9-dddc-ad10060aa47c"
      },
      "source": [
        "#Conferindo se houve uma predição para cada um dos dados de teste.\n",
        "len(predict)"
      ],
      "execution_count": 95,
      "outputs": [
        {
          "output_type": "execute_result",
          "data": {
            "text/plain": [
              "25569"
            ]
          },
          "metadata": {
            "tags": []
          },
          "execution_count": 95
        }
      ]
    },
    {
      "cell_type": "markdown",
      "metadata": {
        "id": "S7AQ_ci1mOUR",
        "colab_type": "text"
      },
      "source": [
        "**Agora iremos transformar os dados de saída, para o formato exigido pela submissão.**"
      ]
    },
    {
      "cell_type": "code",
      "metadata": {
        "id": "LivR-QSaJgrj",
        "colab_type": "code",
        "colab": {
          "base_uri": "https://localhost:8080/",
          "height": 123
        },
        "outputId": "b5672242-ddaa-4ba2-ea5c-5326e6961415"
      },
      "source": [
        "submission = data_test['animal_id']\n",
        "submission.head()"
      ],
      "execution_count": 96,
      "outputs": [
        {
          "output_type": "execute_result",
          "data": {
            "text/plain": [
              "0    A725807\n",
              "1    A713176\n",
              "2    A752992\n",
              "3    A753923\n",
              "4    A763405\n",
              "Name: animal_id, dtype: object"
            ]
          },
          "metadata": {
            "tags": []
          },
          "execution_count": 96
        }
      ]
    },
    {
      "cell_type": "code",
      "metadata": {
        "id": "CRC0i1lQKNMW",
        "colab_type": "code",
        "colab": {
          "base_uri": "https://localhost:8080/",
          "height": 197
        },
        "outputId": "3aa69bb3-f8b6-4506-959c-4c8f5e518184"
      },
      "source": [
        "predict = pd.DataFrame(predict)\n",
        "predict.head()"
      ],
      "execution_count": 98,
      "outputs": [
        {
          "output_type": "execute_result",
          "data": {
            "text/html": [
              "<div>\n",
              "<style scoped>\n",
              "    .dataframe tbody tr th:only-of-type {\n",
              "        vertical-align: middle;\n",
              "    }\n",
              "\n",
              "    .dataframe tbody tr th {\n",
              "        vertical-align: top;\n",
              "    }\n",
              "\n",
              "    .dataframe thead th {\n",
              "        text-align: right;\n",
              "    }\n",
              "</style>\n",
              "<table border=\"1\" class=\"dataframe\">\n",
              "  <thead>\n",
              "    <tr style=\"text-align: right;\">\n",
              "      <th></th>\n",
              "      <th>0</th>\n",
              "    </tr>\n",
              "  </thead>\n",
              "  <tbody>\n",
              "    <tr>\n",
              "      <th>0</th>\n",
              "      <td>Adoption</td>\n",
              "    </tr>\n",
              "    <tr>\n",
              "      <th>1</th>\n",
              "      <td>Transfer</td>\n",
              "    </tr>\n",
              "    <tr>\n",
              "      <th>2</th>\n",
              "      <td>Transfer</td>\n",
              "    </tr>\n",
              "    <tr>\n",
              "      <th>3</th>\n",
              "      <td>Euthanasia</td>\n",
              "    </tr>\n",
              "    <tr>\n",
              "      <th>4</th>\n",
              "      <td>Transfer</td>\n",
              "    </tr>\n",
              "  </tbody>\n",
              "</table>\n",
              "</div>"
            ],
            "text/plain": [
              "            0\n",
              "0    Adoption\n",
              "1    Transfer\n",
              "2    Transfer\n",
              "3  Euthanasia\n",
              "4    Transfer"
            ]
          },
          "metadata": {
            "tags": []
          },
          "execution_count": 98
        }
      ]
    },
    {
      "cell_type": "code",
      "metadata": {
        "id": "AW4IFMXEKNOj",
        "colab_type": "code",
        "colab": {}
      },
      "source": [
        "#Concatenando dados.\n",
        "submission = pd.concat([submission, predict], ignore_index=False, axis=1)"
      ],
      "execution_count": 99,
      "outputs": []
    },
    {
      "cell_type": "code",
      "metadata": {
        "id": "w9L_1h3OKNS1",
        "colab_type": "code",
        "colab": {}
      },
      "source": [
        "#Renomeando as colunas do Data Frame.\n",
        "submission.columns = [['animal_id', 'outcome_type']]"
      ],
      "execution_count": 100,
      "outputs": []
    },
    {
      "cell_type": "code",
      "metadata": {
        "id": "7w3MDLiwKNX8",
        "colab_type": "code",
        "colab": {
          "base_uri": "https://localhost:8080/",
          "height": 34
        },
        "outputId": "d5013078-4698-49b8-9365-e0cf664ad45e"
      },
      "source": [
        "#Verificando a estrutura dos dados de saída.\n",
        "submission.shape"
      ],
      "execution_count": 101,
      "outputs": [
        {
          "output_type": "execute_result",
          "data": {
            "text/plain": [
              "(25570, 2)"
            ]
          },
          "metadata": {
            "tags": []
          },
          "execution_count": 101
        }
      ]
    },
    {
      "cell_type": "code",
      "metadata": {
        "id": "9BMiqz5RKNV0",
        "colab_type": "code",
        "colab": {
          "base_uri": "https://localhost:8080/",
          "height": 197
        },
        "outputId": "925e0391-69f7-4590-a5f2-a23a1e18c0ad"
      },
      "source": [
        "#Visualizando às 5 primeiras linhas do Data Frame originado.\n",
        "submission.head()"
      ],
      "execution_count": 102,
      "outputs": [
        {
          "output_type": "execute_result",
          "data": {
            "text/html": [
              "<div>\n",
              "<style scoped>\n",
              "    .dataframe tbody tr th:only-of-type {\n",
              "        vertical-align: middle;\n",
              "    }\n",
              "\n",
              "    .dataframe tbody tr th {\n",
              "        vertical-align: top;\n",
              "    }\n",
              "\n",
              "    .dataframe thead tr th {\n",
              "        text-align: left;\n",
              "    }\n",
              "</style>\n",
              "<table border=\"1\" class=\"dataframe\">\n",
              "  <thead>\n",
              "    <tr>\n",
              "      <th></th>\n",
              "      <th>animal_id</th>\n",
              "      <th>outcome_type</th>\n",
              "    </tr>\n",
              "  </thead>\n",
              "  <tbody>\n",
              "    <tr>\n",
              "      <th>0</th>\n",
              "      <td>A725807</td>\n",
              "      <td>Adoption</td>\n",
              "    </tr>\n",
              "    <tr>\n",
              "      <th>1</th>\n",
              "      <td>A713176</td>\n",
              "      <td>Transfer</td>\n",
              "    </tr>\n",
              "    <tr>\n",
              "      <th>2</th>\n",
              "      <td>A752992</td>\n",
              "      <td>Transfer</td>\n",
              "    </tr>\n",
              "    <tr>\n",
              "      <th>3</th>\n",
              "      <td>A753923</td>\n",
              "      <td>Euthanasia</td>\n",
              "    </tr>\n",
              "    <tr>\n",
              "      <th>4</th>\n",
              "      <td>A763405</td>\n",
              "      <td>Transfer</td>\n",
              "    </tr>\n",
              "  </tbody>\n",
              "</table>\n",
              "</div>"
            ],
            "text/plain": [
              "  animal_id outcome_type\n",
              "0   A725807     Adoption\n",
              "1   A713176     Transfer\n",
              "2   A752992     Transfer\n",
              "3   A753923   Euthanasia\n",
              "4   A763405     Transfer"
            ]
          },
          "metadata": {
            "tags": []
          },
          "execution_count": 102
        }
      ]
    },
    {
      "cell_type": "code",
      "metadata": {
        "id": "HDzlJrS2KNRi",
        "colab_type": "code",
        "colab": {}
      },
      "source": [
        "#Transformando a submissão em um arquivo com formato CSV.\n",
        "submission.to_csv('submission.csv', index=False)"
      ],
      "execution_count": 103,
      "outputs": []
    }
  ]
}